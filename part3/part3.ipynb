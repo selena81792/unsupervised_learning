{
 "cells": [
  {
   "cell_type": "markdown",
   "id": "607eae57",
   "metadata": {},
   "source": [
    "# Part 3: company clustering customers\n",
    "\n"
   ]
  },
  {
   "cell_type": "markdown",
   "id": "c3858244",
   "metadata": {},
   "source": [
    "\n",
    "### K means clustering"
   ]
  },
  {
   "cell_type": "code",
   "execution_count": null,
   "id": "2f3ed570",
   "metadata": {},
   "outputs": [],
   "source": []
  },
  {
   "cell_type": "code",
   "execution_count": null,
   "id": "dcd1f129",
   "metadata": {},
   "outputs": [],
   "source": []
  },
  {
   "cell_type": "code",
   "execution_count": null,
   "id": "58184029",
   "metadata": {},
   "outputs": [],
   "source": []
  }
 ],
 "metadata": {
  "kernelspec": {
   "display_name": "Python 3 (ipykernel)",
   "language": "python",
   "name": "python3"
  },
  "language_info": {
   "codemirror_mode": {
    "name": "ipython",
    "version": 3
   },
   "file_extension": ".py",
   "mimetype": "text/x-python",
   "name": "python",
   "nbconvert_exporter": "python",
   "pygments_lexer": "ipython3",
   "version": "3.9.7"
  }
 },
 "nbformat": 4,
 "nbformat_minor": 5
}
